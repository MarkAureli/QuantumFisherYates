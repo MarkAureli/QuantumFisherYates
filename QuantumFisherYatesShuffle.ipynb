{
 "cells": [
  {
   "metadata": {
    "ExecuteTime": {
     "end_time": "2025-04-07T16:15:47.861679Z",
     "start_time": "2025-04-07T16:15:47.438170Z"
    }
   },
   "cell_type": "code",
   "source": [
    "import numpy as np\n",
    "from qiskit import QuantumCircuit, QuantumRegister"
   ],
   "id": "cec427ac4080b5c5",
   "outputs": [],
   "execution_count": 1
  },
  {
   "metadata": {
    "ExecuteTime": {
     "end_time": "2025-04-07T16:15:49.421973Z",
     "start_time": "2025-04-07T16:15:49.418290Z"
    }
   },
   "cell_type": "code",
   "source": [
    "NUM_ELEMENTS = 5\n",
    "NUM_QUBITS = (NUM_ELEMENTS - 1).bit_length()"
   ],
   "id": "13fbeed5d5d271fc",
   "outputs": [],
   "execution_count": 2
  },
  {
   "metadata": {
    "ExecuteTime": {
     "end_time": "2025-04-07T16:15:49.743912Z",
     "start_time": "2025-04-07T16:15:49.739542Z"
    }
   },
   "cell_type": "code",
   "source": [
    "def init_perm_reg(perm_reg: QuantumRegister, num_elements: int):\n",
    "    qc: QuantumCircuit = QuantumCircuit(perm_reg)\n",
    "    num_qubits: int = len(perm_reg) // num_elements\n",
    "    for k in range(1, num_elements):\n",
    "        for i in range(k.bit_length()):\n",
    "            if (k >> i) & 1:\n",
    "                qc.x(perm_reg[k * num_qubits + i])\n",
    "    return qc"
   ],
   "id": "d88682fb1191e359",
   "outputs": [],
   "execution_count": 3
  },
  {
   "metadata": {
    "ExecuteTime": {
     "end_time": "2025-04-07T16:15:50.079435Z",
     "start_time": "2025-04-07T16:15:50.068421Z"
    }
   },
   "cell_type": "code",
   "source": [
    "def shukla_vedula(qreg: QuantumRegister, num_states: int):\n",
    "    qcircuit: QuantumCircuit = QuantumCircuit(qreg)\n",
    "    num_qubits: int = (num_states - 1).bit_length()\n",
    "    if num_qubits != num_states.bit_length():  # num_states is a power of 2\n",
    "        qcircuit.h(qreg[:num_qubits])\n",
    "        return qcircuit\n",
    "    \n",
    "    bit_pos: list[int] = [index for (index, bit) in enumerate(np.binary_repr(num_states)[::-1]) if bit == '1']\n",
    "    qcircuit.x(qreg[bit_pos[1:num_states.bit_length()]])\n",
    "    cur_num_states: int = 1 << bit_pos[0]\n",
    "    theta: float = -2 * np.arccos(np.sqrt(cur_num_states / num_states))\n",
    "    if bit_pos[0] > 0:  # num_states is even\n",
    "        qcircuit.h(qreg[0:bit_pos[0]])\n",
    "    qcircuit.ry(theta, qreg[bit_pos[1]])\n",
    "    qcircuit.ch(qreg[bit_pos[1]], qreg[bit_pos[0]:bit_pos[1]], ctrl_state='0')\n",
    "    for m in range(1, len(bit_pos) - 1):\n",
    "        theta = -2 * np.arccos(np.sqrt(2**bit_pos[m] / (num_states - cur_num_states)))\n",
    "        qcircuit.cry(theta, qreg[bit_pos[m]], qreg[bit_pos[m + 1]], ctrl_state='0')\n",
    "        qcircuit.ch(qreg[bit_pos[m + 1]], qreg[bit_pos[m]:bit_pos[m + 1]], ctrl_state='0')\n",
    "        cur_num_states += 1 << bit_pos[m]\n",
    "    return qcircuit"
   ],
   "id": "d151601f48fe83b7",
   "outputs": [],
   "execution_count": 4
  },
  {
   "metadata": {
    "ExecuteTime": {
     "end_time": "2025-04-07T16:33:39.253636Z",
     "start_time": "2025-04-07T16:33:39.239805Z"
    }
   },
   "cell_type": "code",
   "source": [
    "def disentangling_state_gen(perm_reg: QuantumRegister, ancilla_reg: QuantumRegister, num_elements: int, disentangling: bool = True):\n",
    "    num_qubits: int = (num_elements - 1).bit_length()\n",
    "    qc: QuantumCircuit = QuantumCircuit(perm_reg, ancilla_reg)\n",
    "    qc.compose(init_perm_reg(perm_reg, num_elements), inplace=True)\n",
    "    offset: int = 0\n",
    "    for i in range(1, num_elements):\n",
    "        qc.barrier(perm_reg, ancilla_reg)\n",
    "        num_ctrl: int = i.bit_length()\n",
    "        qc.compose(other=shukla_vedula(ancilla_reg[offset:offset + num_ctrl], i + 1), qubits=ancilla_reg, inplace=True)\n",
    "        qc.barrier(perm_reg, ancilla_reg)\n",
    "        for j in range(0, i):\n",
    "            for q in range(0, num_qubits):\n",
    "                qc.mcx([perm_reg[j * num_qubits + q]] + ancilla_reg[offset:offset + num_ctrl], perm_reg[i * num_qubits + q], ctrl_state=np.binary_repr(j, num_ctrl) + '1')\n",
    "                qc.mcx([perm_reg[i * num_qubits + q]] + ancilla_reg[offset:offset + num_ctrl], perm_reg[j * num_qubits + q], ctrl_state=np.binary_repr(j, num_ctrl) + '1')\n",
    "                qc.mcx([perm_reg[j * num_qubits + q]] + ancilla_reg[offset:offset + num_ctrl], perm_reg[i * num_qubits + q], ctrl_state=np.binary_repr(j, num_ctrl) + '1')\n",
    "        qc.barrier(perm_reg, ancilla_reg)\n",
    "        if disentangling:\n",
    "            for j in range(1, i + 1):\n",
    "                for k in range(j.bit_length()):\n",
    "                    if (j >> k) & 1:\n",
    "                        qc.mcx(control_qubits=perm_reg[j * NUM_QUBITS:(j + 1) * NUM_QUBITS], target_qubit=ancilla_reg[offset + k], ctrl_state=i)\n",
    "        else:\n",
    "            offset += i.bit_length()\n",
    "    return qc"
   ],
   "id": "b8b99c2b4e2deb7b",
   "outputs": [],
   "execution_count": 7
  },
  {
   "metadata": {},
   "cell_type": "code",
   "outputs": [],
   "execution_count": null,
   "source": "",
   "id": "6f446e5034297079"
  }
 ],
 "metadata": {
  "kernelspec": {
   "display_name": "Python 3",
   "language": "python",
   "name": "python3"
  },
  "language_info": {
   "codemirror_mode": {
    "name": "ipython",
    "version": 2
   },
   "file_extension": ".py",
   "mimetype": "text/x-python",
   "name": "python",
   "nbconvert_exporter": "python",
   "pygments_lexer": "ipython2",
   "version": "2.7.6"
  }
 },
 "nbformat": 4,
 "nbformat_minor": 5
}
