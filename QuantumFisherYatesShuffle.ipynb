{
 "cells": [
  {
   "metadata": {
    "ExecuteTime": {
     "end_time": "2025-04-07T18:44:15.030146Z",
     "start_time": "2025-04-07T18:44:14.612367Z"
    }
   },
   "cell_type": "code",
   "source": [
    "import numpy as np\n",
    "from qiskit import QuantumCircuit, QuantumRegister, transpile\n",
    "from typing import Optional"
   ],
   "id": "cec427ac4080b5c5",
   "outputs": [],
   "execution_count": 1
  },
  {
   "metadata": {
    "ExecuteTime": {
     "end_time": "2025-04-07T19:59:53.259646Z",
     "start_time": "2025-04-07T19:59:53.254499Z"
    }
   },
   "cell_type": "code",
   "source": [
    "NUM_ELEMENTS: int = 12\n",
    "NUM_QUBITS: int = (NUM_ELEMENTS - 1).bit_length()\n",
    "NUM_DATA_QUBITS: int = 1"
   ],
   "id": "13fbeed5d5d271fc",
   "outputs": [],
   "execution_count": 30
  },
  {
   "metadata": {
    "ExecuteTime": {
     "end_time": "2025-04-07T20:00:00.703938Z",
     "start_time": "2025-04-07T20:00:00.701279Z"
    }
   },
   "cell_type": "code",
   "source": [
    "def init_perm_reg(perm_reg: QuantumRegister, num_elements: int):\n",
    "    qc: QuantumCircuit = QuantumCircuit(perm_reg)\n",
    "    num_qubits: int = len(perm_reg) // num_elements\n",
    "    for k in range(1, num_elements):\n",
    "        for i in range(k.bit_length()):\n",
    "            if (k >> i) & 1:\n",
    "                qc.x(perm_reg[k * num_qubits + i])\n",
    "    return qc"
   ],
   "id": "d88682fb1191e359",
   "outputs": [],
   "execution_count": 31
  },
  {
   "metadata": {
    "ExecuteTime": {
     "end_time": "2025-04-07T20:00:00.709405Z",
     "start_time": "2025-04-07T20:00:00.705407Z"
    }
   },
   "cell_type": "code",
   "source": [
    "def shukla_vedula(qreg: QuantumRegister, num_states: int):\n",
    "    qc: QuantumCircuit = QuantumCircuit(qreg)\n",
    "    num_qubits: int = (num_states - 1).bit_length()\n",
    "    if num_qubits != num_states.bit_length():  # num_states is a power of 2\n",
    "        qc.h(qreg[:num_qubits])\n",
    "        return qc\n",
    "    \n",
    "    bit_pos: list[int] = [index for (index, bit) in enumerate(np.binary_repr(num_states)[::-1]) if bit == '1']\n",
    "    qc.x(qreg[bit_pos[1:num_states.bit_length()]])\n",
    "    cur_num_states: int = 1 << bit_pos[0]\n",
    "    theta: float = -2 * np.arccos(np.sqrt(cur_num_states / num_states))\n",
    "    if bit_pos[0] > 0:  # num_states is even\n",
    "        qc.h(qreg[0:bit_pos[0]])\n",
    "    qc.ry(theta, qreg[bit_pos[1]])\n",
    "    qc.ch(qreg[bit_pos[1]], qreg[bit_pos[0]:bit_pos[1]], ctrl_state='0')\n",
    "    for m in range(1, len(bit_pos) - 1):\n",
    "        theta = -2 * np.arccos(np.sqrt(2**bit_pos[m] / (num_states - cur_num_states)))\n",
    "        qc.cry(theta, qreg[bit_pos[m]], qreg[bit_pos[m + 1]], ctrl_state='0')\n",
    "        qc.ch(qreg[bit_pos[m + 1]], qreg[bit_pos[m]:bit_pos[m + 1]], ctrl_state='0')\n",
    "        cur_num_states += 1 << bit_pos[m]\n",
    "    return qc"
   ],
   "id": "d151601f48fe83b7",
   "outputs": [],
   "execution_count": 32
  },
  {
   "metadata": {
    "ExecuteTime": {
     "end_time": "2025-04-07T20:59:15.709976Z",
     "start_time": "2025-04-07T20:59:15.693750Z"
    }
   },
   "cell_type": "code",
   "source": [
    "def quantum_fisher_yates(num_elements: int, perm_reg: QuantumRegister, ancilla_reg: QuantumRegister, data_reg: Optional[QuantumRegister] = None, disentangling: bool = True):\n",
    "    num_qubits: int = (num_elements - 1).bit_length()\n",
    "    if data_reg:\n",
    "        qc: QuantumCircuit = QuantumCircuit(data_reg, perm_reg, ancilla_reg)\n",
    "        num_data_qubits: int = len(data_reg) // num_elements\n",
    "    else:\n",
    "        qc: QuantumCircuit = QuantumCircuit(perm_reg, ancilla_reg)\n",
    "    qc.compose(init_perm_reg(perm_reg, num_elements), inplace=True)\n",
    "    offset: int = 0\n",
    "    for i in range(1, num_elements):\n",
    "        num_ctrl: int = i.bit_length()\n",
    "        qc.compose(other=shukla_vedula(QuantumRegister(num_ctrl), i + 1), qubits=ancilla_reg[offset:offset + num_ctrl], inplace=True)\n",
    "        for j in range(0, i):\n",
    "            for q in range(0, num_qubits):\n",
    "                qc.cx(perm_reg[j * num_qubits + q], perm_reg[i * num_qubits + q], ctrl_state='1')\n",
    "                qc.mcx([perm_reg[i * num_qubits + q]] + ancilla_reg[offset:offset + num_ctrl], perm_reg[j * num_qubits + q], ctrl_state=np.binary_repr(j, num_ctrl) + '1')\n",
    "                qc.cx(perm_reg[j * num_qubits + q], perm_reg[i * num_qubits + q], ctrl_state='1')\n",
    "            if data_reg:\n",
    "                for q in range(0, num_data_qubits):\n",
    "                    qc.cx(data_reg[j * num_data_qubits + q], data_reg[i * num_data_qubits + q], ctrl_state='1')\n",
    "                    qc.mcx([data_reg[i * num_data_qubits + q]] + ancilla_reg[offset:offset + num_ctrl], data_reg[j * num_data_qubits + q], ctrl_state=np.binary_repr(j, num_ctrl) + '1')\n",
    "                    qc.cx(data_reg[j * num_data_qubits + q], data_reg[i * num_data_qubits + q], ctrl_state='1')\n",
    "        if disentangling:\n",
    "            for j in range(1, i + 1):\n",
    "                for k in range(j.bit_length()):\n",
    "                    if (j >> k) & 1:\n",
    "                        qc.mcx(control_qubits=perm_reg[j * NUM_QUBITS:j * NUM_QUBITS + num_ctrl], target_qubit=ancilla_reg[offset + k], ctrl_state=i)\n",
    "        else:\n",
    "            offset += num_ctrl\n",
    "    return qc"
   ],
   "id": "b8b99c2b4e2deb7b",
   "outputs": [],
   "execution_count": 41
  },
  {
   "metadata": {
    "ExecuteTime": {
     "end_time": "2025-04-07T20:59:48.336748Z",
     "start_time": "2025-04-07T20:59:47.683630Z"
    }
   },
   "cell_type": "code",
   "source": [
    "a: QuantumRegister = QuantumRegister(NUM_ELEMENTS * NUM_DATA_QUBITS, 'data')\n",
    "b: QuantumRegister = QuantumRegister(NUM_ELEMENTS * NUM_QUBITS, 'perm')\n",
    "c: QuantumRegister = QuantumRegister(sum([x.bit_length() for x in range(1, NUM_ELEMENTS)]), 'anc')\n",
    "quc: QuantumCircuit = quantum_fisher_yates(NUM_ELEMENTS, b, c, None, disentangling=False)\n",
    "#display(quc.draw(output='text'))\n",
    "print(quc.count_ops())\n",
    "target_basis = ['rx', 'ry', 'rz', 'h', 'cx']\n",
    "decomposed = transpile(quc, basis_gates=target_basis, optimization_level=0)\n",
    "print(decomposed.count_ops())\n",
    "decomposed2 = transpile(quc, basis_gates=target_basis, optimization_level=3)\n",
    "print(decomposed2.count_ops())\n",
    "#display(decomposed.draw(output='mpl'))"
   ],
   "id": "6f446e5034297079",
   "outputs": [
    {
     "name": "stdout",
     "output_type": "stream",
     "text": [
      "OrderedDict({'cx': 528, 'mcx_o1': 40, 'mcx_o3': 40, 'mcx_o5': 36, 'mcx_o7': 32, 'x': 30, 'mcx_o9': 28, 'mcx_o11': 24, 'mcx_o13': 20, 'mcx_o15': 16, 'ch_o0': 15, 'mcx_o17': 12, 'h': 10, 'ry': 8, 'mcx_o19': 8, 'ccx_o1': 4, 'mcx_o21': 4, 'cry_o0': 2})\n",
      "OrderedDict({'rz': 8720, 'cx': 8171, 'h': 3632, 'rx': 1216, 'ry': 12})\n",
      "OrderedDict({'rz': 8207, 'cx': 8169, 'h': 3096, 'rx': 154, 'ry': 33})\n"
     ]
    }
   ],
   "execution_count": 42
  },
  {
   "metadata": {},
   "cell_type": "code",
   "source": "",
   "id": "6cd9af0785b1d12",
   "outputs": [],
   "execution_count": null
  },
  {
   "metadata": {},
   "cell_type": "code",
   "source": "",
   "id": "259ec486452ac5b5",
   "outputs": [],
   "execution_count": null
  }
 ],
 "metadata": {
  "kernelspec": {
   "display_name": "Python 3",
   "language": "python",
   "name": "python3"
  },
  "language_info": {
   "codemirror_mode": {
    "name": "ipython",
    "version": 2
   },
   "file_extension": ".py",
   "mimetype": "text/x-python",
   "name": "python",
   "nbconvert_exporter": "python",
   "pygments_lexer": "ipython2",
   "version": "2.7.6"
  }
 },
 "nbformat": 4,
 "nbformat_minor": 5
}
